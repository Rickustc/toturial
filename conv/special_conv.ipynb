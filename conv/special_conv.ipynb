{
 "cells": [
  {
   "cell_type": "code",
   "execution_count": null,
   "metadata": {},
   "outputs": [],
   "source": [
    "import torch\n",
    "import torch.nn.functional as F"
   ]
  },
  {
   "cell_type": "code",
   "execution_count": null,
   "metadata": {},
   "outputs": [],
   "source": [
    "\n",
    "# identity conv\n",
    "channel = 16\n",
    "padding = [1,1]   # specify padding which dont  change output hw hsape\n",
    "kernel_size = [3,3]\n",
    "weights = torch.zeros([channel,channel,kernel_size[0],kernel_size[1]])\n",
    "\n",
    "\n",
    "\n",
    "\n",
    "# make a diago conv which do a identity mapping\n",
    "for i in range(0,channel):\n",
    "    weights[i][i][padding[0]][padding[1]] = 1\n",
    "torch.manual_seed(0)\n",
    "inputs = torch.randn(1,16,5,5)\n",
    "o = F.conv2d(inputs,weights,bias= None,stride = 1, padding=1)  #(3,1,1)\n",
    "\n",
    "\n",
    "\n",
    "\n"
   ]
  }
 ],
 "metadata": {
  "kernelspec": {
   "display_name": "Python 3",
   "language": "python",
   "name": "python3"
  },
  "language_info": {
   "name": "python",
   "version": "3.9.6"
  }
 },
 "nbformat": 4,
 "nbformat_minor": 2
}
